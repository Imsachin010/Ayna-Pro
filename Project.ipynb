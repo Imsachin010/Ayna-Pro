{
  "nbformat": 4,
  "nbformat_minor": 0,
  "metadata": {
    "colab": {
      "provenance": [],
      "gpuType": "T4"
    },
    "kernelspec": {
      "name": "python3",
      "display_name": "Python 3"
    },
    "language_info": {
      "name": "python"
    },
    "accelerator": "GPU"
  },
  "cells": [
    {
      "cell_type": "code",
      "source": [
        "# -----------------------------\n",
        "# 1. LIBRARIES & CONFIG\n",
        "# -----------------------------\n",
        "import os\n",
        "import json\n",
        "from PIL import Image\n",
        "import numpy as np\n",
        "import matplotlib.pyplot as plt\n",
        "\n",
        "import torch\n",
        "import torch.nn as nn\n",
        "import torch.optim as optim\n",
        "from torch.utils.data import Dataset, DataLoader\n",
        "import torchvision.transforms as transforms\n",
        "import wandb\n",
        "\n",
        "# wandb\n",
        "wandb.init(project=\"polygon-colorizer\", config={\n",
        "    \"epochs\": 100,\n",
        "    \"batch_size\": 16,\n",
        "    \"lr\": 1e-3,\n",
        "    \"embedding_dim\": 16,\n",
        "    \"loss_fn\": \"L1Loss\",\n",
        "    \"img_size\": 128\n",
        "})\n",
        "\n",
        "config = wandb.config\n",
        "device = torch.device('cuda' if torch.cuda.is_available() else 'cpu')\n",
        "print(\"Using device:\", device)"
      ],
      "metadata": {
        "colab": {
          "base_uri": "https://localhost:8080/",
          "height": 332
        },
        "id": "kbETWdsfSSsK",
        "outputId": "0fee870f-9a2c-4b0c-d2fa-ae2a7a8301f7"
      },
      "execution_count": 1,
      "outputs": [
        {
          "output_type": "display_data",
          "data": {
            "text/plain": [
              "<IPython.core.display.Javascript object>"
            ],
            "application/javascript": [
              "\n",
              "        window._wandbApiKey = new Promise((resolve, reject) => {\n",
              "            function loadScript(url) {\n",
              "            return new Promise(function(resolve, reject) {\n",
              "                let newScript = document.createElement(\"script\");\n",
              "                newScript.onerror = reject;\n",
              "                newScript.onload = resolve;\n",
              "                document.body.appendChild(newScript);\n",
              "                newScript.src = url;\n",
              "            });\n",
              "            }\n",
              "            loadScript(\"https://cdn.jsdelivr.net/npm/postmate/build/postmate.min.js\").then(() => {\n",
              "            const iframe = document.createElement('iframe')\n",
              "            iframe.style.cssText = \"width:0;height:0;border:none\"\n",
              "            document.body.appendChild(iframe)\n",
              "            const handshake = new Postmate({\n",
              "                container: iframe,\n",
              "                url: 'https://wandb.ai/authorize'\n",
              "            });\n",
              "            const timeout = setTimeout(() => reject(\"Couldn't auto authenticate\"), 5000)\n",
              "            handshake.then(function(child) {\n",
              "                child.on('authorize', data => {\n",
              "                    clearTimeout(timeout)\n",
              "                    resolve(data)\n",
              "                });\n",
              "            });\n",
              "            })\n",
              "        });\n",
              "    "
            ]
          },
          "metadata": {}
        },
        {
          "output_type": "stream",
          "name": "stderr",
          "text": [
            "\u001b[34m\u001b[1mwandb\u001b[0m: Logging into wandb.ai. (Learn how to deploy a W&B server locally: https://wandb.me/wandb-server)\n",
            "\u001b[34m\u001b[1mwandb\u001b[0m: You can find your API key in your browser here: https://wandb.ai/authorize?ref=models\n",
            "wandb: Paste an API key from your profile and hit enter:"
          ]
        },
        {
          "name": "stdout",
          "output_type": "stream",
          "text": [
            " ··········\n"
          ]
        },
        {
          "output_type": "stream",
          "name": "stderr",
          "text": [
            "\u001b[34m\u001b[1mwandb\u001b[0m: \u001b[33mWARNING\u001b[0m If you're specifying your api key in code, ensure this code is not shared publicly.\n",
            "\u001b[34m\u001b[1mwandb\u001b[0m: \u001b[33mWARNING\u001b[0m Consider setting the WANDB_API_KEY environment variable, or running `wandb login` from the command line.\n",
            "\u001b[34m\u001b[1mwandb\u001b[0m: No netrc file found, creating one.\n",
            "\u001b[34m\u001b[1mwandb\u001b[0m: Appending key for api.wandb.ai to your netrc file: /root/.netrc\n",
            "\u001b[34m\u001b[1mwandb\u001b[0m: Currently logged in as: \u001b[33m010sachinmishra\u001b[0m (\u001b[33m010sachinmishra-international-institute-of-information-t\u001b[0m) to \u001b[32mhttps://api.wandb.ai\u001b[0m. Use \u001b[1m`wandb login --relogin`\u001b[0m to force relogin\n"
          ]
        },
        {
          "output_type": "display_data",
          "data": {
            "text/plain": [
              "<IPython.core.display.HTML object>"
            ],
            "text/html": [
              "Tracking run with wandb version 0.21.0"
            ]
          },
          "metadata": {}
        },
        {
          "output_type": "display_data",
          "data": {
            "text/plain": [
              "<IPython.core.display.HTML object>"
            ],
            "text/html": [
              "Run data is saved locally in <code>/content/wandb/run-20250805_033438-98c5bxt4</code>"
            ]
          },
          "metadata": {}
        },
        {
          "output_type": "display_data",
          "data": {
            "text/plain": [
              "<IPython.core.display.HTML object>"
            ],
            "text/html": [
              "Syncing run <strong><a href='https://wandb.ai/010sachinmishra-international-institute-of-information-t/polygon-colorizer/runs/98c5bxt4' target=\"_blank\">upbeat-flower-1</a></strong> to <a href='https://wandb.ai/010sachinmishra-international-institute-of-information-t/polygon-colorizer' target=\"_blank\">Weights & Biases</a> (<a href='https://wandb.me/developer-guide' target=\"_blank\">docs</a>)<br>"
            ]
          },
          "metadata": {}
        },
        {
          "output_type": "display_data",
          "data": {
            "text/plain": [
              "<IPython.core.display.HTML object>"
            ],
            "text/html": [
              " View project at <a href='https://wandb.ai/010sachinmishra-international-institute-of-information-t/polygon-colorizer' target=\"_blank\">https://wandb.ai/010sachinmishra-international-institute-of-information-t/polygon-colorizer</a>"
            ]
          },
          "metadata": {}
        },
        {
          "output_type": "display_data",
          "data": {
            "text/plain": [
              "<IPython.core.display.HTML object>"
            ],
            "text/html": [
              " View run at <a href='https://wandb.ai/010sachinmishra-international-institute-of-information-t/polygon-colorizer/runs/98c5bxt4' target=\"_blank\">https://wandb.ai/010sachinmishra-international-institute-of-information-t/polygon-colorizer/runs/98c5bxt4</a>"
            ]
          },
          "metadata": {}
        },
        {
          "output_type": "stream",
          "name": "stdout",
          "text": [
            "Using device: cuda\n"
          ]
        }
      ]
    },
    {
      "cell_type": "code",
      "source": [
        "%cd /content/drive/MyDrive/AYNA Project/dataset"
      ],
      "metadata": {
        "colab": {
          "base_uri": "https://localhost:8080/"
        },
        "id": "Qoz5bofvTsHR",
        "outputId": "5874e7ca-354a-4630-e0ff-d5590f50f4a0"
      },
      "execution_count": 5,
      "outputs": [
        {
          "output_type": "stream",
          "name": "stdout",
          "text": [
            "/content/drive/MyDrive/AYNA Project/dataset\n"
          ]
        }
      ]
    },
    {
      "cell_type": "code",
      "source": [
        "import os\n",
        "\n",
        "print(\"Train input exists:\", os.path.exists('./training/inputs'))\n",
        "print(\"Train output exists:\", os.path.exists('./training/outputs'))\n",
        "print(\"Train JSON exists:\", os.path.isfile('./training/data.json'))\n",
        "print(\"Val input exists:\", os.path.exists('./validation/inputs'))\n",
        "print(\"Val output exists:\", os.path.exists('./validation/outputs'))\n",
        "print(\"Val JSON exists:\", os.path.isfile('./validation/data.json'))"
      ],
      "metadata": {
        "colab": {
          "base_uri": "https://localhost:8080/"
        },
        "id": "tNTqJkXqTe-y",
        "outputId": "7ddb0702-fda7-45a8-8ba6-79dbd005ebbc"
      },
      "execution_count": 6,
      "outputs": [
        {
          "output_type": "stream",
          "name": "stdout",
          "text": [
            "Train input exists: True\n",
            "Train output exists: True\n",
            "Train JSON exists: True\n",
            "Val input exists: True\n",
            "Val output exists: True\n",
            "Val JSON exists: True\n"
          ]
        }
      ]
    },
    {
      "cell_type": "code",
      "source": [
        "# -----------------------------\n",
        "# 2. COLOR MAPPING + TRANSFORMS\n",
        "# -----------------------------\n",
        "with open('./training/data.json', 'r') as f:\n",
        "    data = json.load(f)\n",
        "\n",
        "color_list = sorted(set(item['colour'] for item in data))\n",
        "color2idx = {color: idx for idx, color in enumerate(color_list)}\n",
        "idx2color = {idx: color for color, idx in color2idx.items()}\n",
        "\n",
        "transform = transforms.Compose([\n",
        "    transforms.Resize((config.img_size, config.img_size)),\n",
        "    transforms.ToTensor()\n",
        "])"
      ],
      "metadata": {
        "id": "jhY0U7YBSapG"
      },
      "execution_count": 9,
      "outputs": []
    },
    {
      "cell_type": "code",
      "source": [
        "# -----------------------------\n",
        "# 3. DATASET CLASS\n",
        "# -----------------------------\n",
        "class PolygonColorDataset(Dataset):\n",
        "    def __init__(self, input_dir, output_dir, json_path, color2idx, transform=None):\n",
        "        with open(json_path, 'r') as f:\n",
        "            self.data = json.load(f)\n",
        "        self.input_dir = input_dir\n",
        "        self.output_dir = output_dir\n",
        "        self.transform = transform\n",
        "        self.color2idx = color2idx\n",
        "\n",
        "    def __len__(self):\n",
        "        return len(self.data)\n",
        "\n",
        "    def __getitem__(self, idx):\n",
        "        item = self.data[idx]\n",
        "        input_path = os.path.join(self.input_dir, item['input_polygon'])\n",
        "        output_path = os.path.join(self.output_dir, item['output_image'])\n",
        "        color_idx = self.color2idx[item['colour']]\n",
        "\n",
        "        input_img = Image.open(input_path).convert('RGB')\n",
        "        output_img = Image.open(output_path).convert('RGB')\n",
        "        if self.transform:\n",
        "            input_img = self.transform(input_img)\n",
        "            output_img = self.transform(output_img)\n",
        "        return input_img, torch.tensor(color_idx), output_img"
      ],
      "metadata": {
        "id": "duJbbqQ7Sd7x"
      },
      "execution_count": 11,
      "outputs": []
    },
    {
      "cell_type": "code",
      "execution_count": 12,
      "metadata": {
        "id": "76jo3VnASHXc"
      },
      "outputs": [],
      "source": [
        "# -----------------------------\n",
        "# 4. UNet CONDITIONAL MODEL\n",
        "# -----------------------------\n",
        "class DoubleConv(nn.Module):\n",
        "    def __init__(self, in_ch, out_ch):\n",
        "        super().__init__()\n",
        "        self.block = nn.Sequential(\n",
        "            nn.Conv2d(in_ch, out_ch, 3, padding=1),\n",
        "            nn.BatchNorm2d(out_ch),\n",
        "            nn.ReLU(inplace=True),\n",
        "            nn.Conv2d(out_ch, out_ch, 3, padding=1),\n",
        "            nn.BatchNorm2d(out_ch),\n",
        "            nn.ReLU(inplace=True)\n",
        "        )\n",
        "    def forward(self, x):\n",
        "        return self.block(x)\n",
        "\n",
        "class UNetConditional(nn.Module):\n",
        "    def __init__(self, num_colors, emb_dim=16):\n",
        "        super().__init__()\n",
        "        self.color_emb = nn.Embedding(num_colors, emb_dim)\n",
        "        self.inc = DoubleConv(3 + emb_dim, 64)\n",
        "        self.down1 = nn.Sequential(nn.MaxPool2d(2), DoubleConv(64, 128))\n",
        "        self.down2 = nn.Sequential(nn.MaxPool2d(2), DoubleConv(128, 256))\n",
        "        self.down3 = nn.Sequential(nn.MaxPool2d(2), DoubleConv(256, 512))\n",
        "        self.up3 = nn.ConvTranspose2d(512, 256, 2, stride=2)\n",
        "        self.conv3 = DoubleConv(512, 256)\n",
        "        self.up2 = nn.ConvTranspose2d(256, 128, 2, stride=2)\n",
        "        self.conv2 = DoubleConv(256, 128)\n",
        "        self.up1 = nn.ConvTranspose2d(128, 64, 2, stride=2)\n",
        "        self.conv1 = DoubleConv(128, 64)\n",
        "        self.outc = nn.Conv2d(64, 3, 1)\n",
        "\n",
        "    def forward(self, x, color_idx):\n",
        "        b, _, h, w = x.shape\n",
        "        emb = self.color_emb(color_idx).view(b, -1, 1, 1).expand(-1, -1, h, w)\n",
        "        x = torch.cat([x, emb], dim=1)\n",
        "        x1 = self.inc(x)\n",
        "        x2 = self.down1(x1)\n",
        "        x3 = self.down2(x2)\n",
        "        x4 = self.down3(x3)\n",
        "        x = self.up3(x4)\n",
        "        x = torch.cat([x, x3], dim=1)\n",
        "        x = self.conv3(x)\n",
        "        x = self.up2(x)\n",
        "        x = torch.cat([x, x2], dim=1)\n",
        "        x = self.conv2(x)\n",
        "        x = self.up1(x)\n",
        "        x = torch.cat([x, x1], dim=1)\n",
        "        x = self.conv1(x)\n",
        "        return torch.sigmoid(self.outc(x))\n",
        "\n",
        "\n"
      ]
    },
    {
      "cell_type": "code",
      "source": [
        "# -----------------------------\n",
        "# 5. TRAINING + VALIDATION\n",
        "# -----------------------------\n",
        "train_dataset = PolygonColorDataset('./training/inputs', './training/outputs', './training/data.json', color2idx, transform)\n",
        "val_dataset = PolygonColorDataset('./validation/inputs', './validation/outputs', './validation/data.json', color2idx, transform)\n",
        "\n",
        "train_loader = DataLoader(train_dataset, batch_size=config.batch_size, shuffle=True)\n",
        "val_loader = DataLoader(val_dataset, batch_size=config.batch_size)\n",
        "\n",
        "model = UNetConditional(num_colors=len(color2idx), emb_dim=config.embedding_dim).to(device)\n",
        "optimizer = optim.Adam(model.parameters(), lr=config.lr)\n",
        "criterion = nn.L1Loss()\n",
        "\n",
        "for epoch in range(config.epochs):\n",
        "    model.train()\n",
        "    train_loss = 0\n",
        "    for x, color_idx, y in train_loader:\n",
        "        x, y, color_idx = x.to(device), y.to(device), color_idx.to(device)\n",
        "        optimizer.zero_grad()\n",
        "        pred = model(x, color_idx)\n",
        "        loss = criterion(pred, y)\n",
        "        loss.backward()\n",
        "        optimizer.step()\n",
        "        train_loss += loss.item()\n",
        "\n",
        "    model.eval()\n",
        "    val_loss = 0\n",
        "    with torch.no_grad():\n",
        "        for x, color_idx, y in val_loader:\n",
        "            x, y, color_idx = x.to(device), y.to(device), color_idx.to(device)\n",
        "            pred = model(x, color_idx)\n",
        "            val_loss += criterion(pred, y).item()\n",
        "\n",
        "    wandb.log({\n",
        "        \"epoch\": epoch+1,\n",
        "        \"train_loss\": train_loss / len(train_loader),\n",
        "        \"val_loss\": val_loss / len(val_loader)\n",
        "    })\n",
        "    print(f\"Epoch {epoch+1} | Train Loss: {train_loss/len(train_loader):.4f} | Val Loss: {val_loss/len(val_loader):.4f}\")\n"
      ],
      "metadata": {
        "colab": {
          "base_uri": "https://localhost:8080/"
        },
        "id": "bLHEkeqKSlm1",
        "outputId": "fb2235ba-373c-4491-e9af-29e24481e475"
      },
      "execution_count": 13,
      "outputs": [
        {
          "output_type": "stream",
          "name": "stdout",
          "text": [
            "Epoch 1 | Train Loss: 0.4734 | Val Loss: 0.4974\n",
            "Epoch 2 | Train Loss: 0.4239 | Val Loss: 0.5135\n",
            "Epoch 3 | Train Loss: 0.3992 | Val Loss: 0.5020\n",
            "Epoch 4 | Train Loss: 0.3755 | Val Loss: 0.4601\n",
            "Epoch 5 | Train Loss: 0.3562 | Val Loss: 0.4523\n",
            "Epoch 6 | Train Loss: 0.3390 | Val Loss: 0.3685\n",
            "Epoch 7 | Train Loss: 0.3174 | Val Loss: 0.3538\n",
            "Epoch 8 | Train Loss: 0.3008 | Val Loss: 0.3323\n",
            "Epoch 9 | Train Loss: 0.2927 | Val Loss: 0.3069\n",
            "Epoch 10 | Train Loss: 0.2798 | Val Loss: 0.3155\n",
            "Epoch 11 | Train Loss: 0.2653 | Val Loss: 0.3090\n",
            "Epoch 12 | Train Loss: 0.2433 | Val Loss: 0.2773\n",
            "Epoch 13 | Train Loss: 0.2365 | Val Loss: 0.2508\n",
            "Epoch 14 | Train Loss: 0.2236 | Val Loss: 0.2428\n",
            "Epoch 15 | Train Loss: 0.2160 | Val Loss: 0.2232\n",
            "Epoch 16 | Train Loss: 0.1986 | Val Loss: 0.2498\n",
            "Epoch 17 | Train Loss: 0.1902 | Val Loss: 0.2294\n",
            "Epoch 18 | Train Loss: 0.1785 | Val Loss: 0.2058\n",
            "Epoch 19 | Train Loss: 0.1691 | Val Loss: 0.1773\n",
            "Epoch 20 | Train Loss: 0.1645 | Val Loss: 0.1498\n",
            "Epoch 21 | Train Loss: 0.1567 | Val Loss: 0.1238\n",
            "Epoch 22 | Train Loss: 0.1454 | Val Loss: 0.1173\n",
            "Epoch 23 | Train Loss: 0.1447 | Val Loss: 0.1072\n",
            "Epoch 24 | Train Loss: 0.1447 | Val Loss: 0.1082\n",
            "Epoch 25 | Train Loss: 0.1309 | Val Loss: 0.1181\n",
            "Epoch 26 | Train Loss: 0.1276 | Val Loss: 0.1394\n",
            "Epoch 27 | Train Loss: 0.1310 | Val Loss: 0.1400\n",
            "Epoch 28 | Train Loss: 0.1214 | Val Loss: 0.1127\n",
            "Epoch 29 | Train Loss: 0.1203 | Val Loss: 0.0920\n",
            "Epoch 30 | Train Loss: 0.1190 | Val Loss: 0.0966\n",
            "Epoch 31 | Train Loss: 0.1147 | Val Loss: 0.0949\n",
            "Epoch 32 | Train Loss: 0.1191 | Val Loss: 0.0872\n",
            "Epoch 33 | Train Loss: 0.1086 | Val Loss: 0.0879\n",
            "Epoch 34 | Train Loss: 0.1107 | Val Loss: 0.0861\n",
            "Epoch 35 | Train Loss: 0.1022 | Val Loss: 0.0843\n",
            "Epoch 36 | Train Loss: 0.1002 | Val Loss: 0.0763\n",
            "Epoch 37 | Train Loss: 0.0930 | Val Loss: 0.0757\n",
            "Epoch 38 | Train Loss: 0.0931 | Val Loss: 0.0794\n",
            "Epoch 39 | Train Loss: 0.0918 | Val Loss: 0.0670\n",
            "Epoch 40 | Train Loss: 0.0834 | Val Loss: 0.0688\n",
            "Epoch 41 | Train Loss: 0.0779 | Val Loss: 0.0609\n",
            "Epoch 42 | Train Loss: 0.0715 | Val Loss: 0.0575\n",
            "Epoch 43 | Train Loss: 0.0699 | Val Loss: 0.0574\n",
            "Epoch 44 | Train Loss: 0.0630 | Val Loss: 0.0618\n",
            "Epoch 45 | Train Loss: 0.0548 | Val Loss: 0.0478\n",
            "Epoch 46 | Train Loss: 0.0522 | Val Loss: 0.0429\n",
            "Epoch 47 | Train Loss: 0.0535 | Val Loss: 0.0352\n",
            "Epoch 48 | Train Loss: 0.0541 | Val Loss: 0.0343\n",
            "Epoch 49 | Train Loss: 0.0462 | Val Loss: 0.0327\n",
            "Epoch 50 | Train Loss: 0.0442 | Val Loss: 0.0307\n",
            "Epoch 51 | Train Loss: 0.0391 | Val Loss: 0.0286\n",
            "Epoch 52 | Train Loss: 0.0444 | Val Loss: 0.0285\n",
            "Epoch 53 | Train Loss: 0.0431 | Val Loss: 0.0313\n",
            "Epoch 54 | Train Loss: 0.0343 | Val Loss: 0.0322\n",
            "Epoch 55 | Train Loss: 0.0361 | Val Loss: 0.0271\n",
            "Epoch 56 | Train Loss: 0.0322 | Val Loss: 0.0288\n",
            "Epoch 57 | Train Loss: 0.0335 | Val Loss: 0.0214\n",
            "Epoch 58 | Train Loss: 0.0282 | Val Loss: 0.0246\n",
            "Epoch 59 | Train Loss: 0.0341 | Val Loss: 0.0193\n",
            "Epoch 60 | Train Loss: 0.0306 | Val Loss: 0.0189\n",
            "Epoch 61 | Train Loss: 0.0331 | Val Loss: 0.0197\n",
            "Epoch 62 | Train Loss: 0.0288 | Val Loss: 0.0199\n",
            "Epoch 63 | Train Loss: 0.0259 | Val Loss: 0.0166\n",
            "Epoch 64 | Train Loss: 0.0268 | Val Loss: 0.0148\n",
            "Epoch 65 | Train Loss: 0.0257 | Val Loss: 0.0149\n",
            "Epoch 66 | Train Loss: 0.0224 | Val Loss: 0.0152\n",
            "Epoch 67 | Train Loss: 0.0237 | Val Loss: 0.0156\n",
            "Epoch 68 | Train Loss: 0.0212 | Val Loss: 0.0134\n",
            "Epoch 69 | Train Loss: 0.0210 | Val Loss: 0.0123\n",
            "Epoch 70 | Train Loss: 0.0192 | Val Loss: 0.0126\n",
            "Epoch 71 | Train Loss: 0.0183 | Val Loss: 0.0122\n",
            "Epoch 72 | Train Loss: 0.0164 | Val Loss: 0.0106\n",
            "Epoch 73 | Train Loss: 0.0182 | Val Loss: 0.0097\n",
            "Epoch 74 | Train Loss: 0.0170 | Val Loss: 0.0107\n",
            "Epoch 75 | Train Loss: 0.0177 | Val Loss: 0.0102\n",
            "Epoch 76 | Train Loss: 0.0155 | Val Loss: 0.0097\n",
            "Epoch 77 | Train Loss: 0.0134 | Val Loss: 0.0108\n",
            "Epoch 78 | Train Loss: 0.0151 | Val Loss: 0.0082\n",
            "Epoch 79 | Train Loss: 0.0143 | Val Loss: 0.0082\n",
            "Epoch 80 | Train Loss: 0.0115 | Val Loss: 0.0096\n",
            "Epoch 81 | Train Loss: 0.0132 | Val Loss: 0.0085\n",
            "Epoch 82 | Train Loss: 0.0121 | Val Loss: 0.0076\n",
            "Epoch 83 | Train Loss: 0.0125 | Val Loss: 0.0076\n",
            "Epoch 84 | Train Loss: 0.0182 | Val Loss: 0.0080\n",
            "Epoch 85 | Train Loss: 0.0115 | Val Loss: 0.0080\n",
            "Epoch 86 | Train Loss: 0.0145 | Val Loss: 0.0075\n",
            "Epoch 87 | Train Loss: 0.0116 | Val Loss: 0.0070\n",
            "Epoch 88 | Train Loss: 0.0137 | Val Loss: 0.0077\n",
            "Epoch 89 | Train Loss: 0.0132 | Val Loss: 0.0088\n",
            "Epoch 90 | Train Loss: 0.0191 | Val Loss: 0.0090\n",
            "Epoch 91 | Train Loss: 0.0142 | Val Loss: 0.0144\n",
            "Epoch 92 | Train Loss: 0.0131 | Val Loss: 0.0091\n",
            "Epoch 93 | Train Loss: 0.0112 | Val Loss: 0.0051\n",
            "Epoch 94 | Train Loss: 0.0113 | Val Loss: 0.0045\n",
            "Epoch 95 | Train Loss: 0.0098 | Val Loss: 0.0048\n",
            "Epoch 96 | Train Loss: 0.0103 | Val Loss: 0.0049\n",
            "Epoch 97 | Train Loss: 0.0115 | Val Loss: 0.0049\n",
            "Epoch 98 | Train Loss: 0.0108 | Val Loss: 0.0043\n",
            "Epoch 99 | Train Loss: 0.0090 | Val Loss: 0.0046\n",
            "Epoch 100 | Train Loss: 0.0174 | Val Loss: 0.0048\n"
          ]
        }
      ]
    },
    {
      "cell_type": "code",
      "source": [
        "# Save the model\n",
        "torch.save(model.state_dict(), \"unet_polygon_color.pth\")"
      ],
      "metadata": {
        "id": "-kJNyNoWSnOE"
      },
      "execution_count": 14,
      "outputs": []
    },
    {
      "cell_type": "code",
      "source": [
        "# -----------------------------\n",
        "# 6. INFERENCE\n",
        "# -----------------------------\n",
        "model.eval()\n",
        "test_img_path = './validation/inputs/octagon.png'\n",
        "test_color = 'blue'\n",
        "\n",
        "input_img = Image.open(test_img_path).convert('RGB')\n",
        "input_tensor = transform(input_img).unsqueeze(0).to(device)\n",
        "color_idx_tensor = torch.tensor([color2idx[test_color]]).to(device)\n",
        "\n",
        "with torch.no_grad():\n",
        "    pred = model(input_tensor, color_idx_tensor)\n",
        "    output_img = pred.squeeze(0).cpu().numpy().transpose(1, 2, 0)\n",
        "\n",
        "plt.figure(figsize=(10,5))\n",
        "plt.subplot(1,2,1)\n",
        "plt.title(\"Input\")\n",
        "plt.imshow(input_img); plt.axis('off')\n",
        "plt.subplot(1,2,2)\n",
        "plt.title(f\"Predicted: {test_color}\")\n",
        "plt.imshow(output_img); plt.axis('off')\n",
        "plt.show()\n",
        "\n",
        "wandb.finish()"
      ],
      "metadata": {
        "colab": {
          "base_uri": "https://localhost:8080/",
          "height": 751
        },
        "id": "UYZOFX7nSiUV",
        "outputId": "96d4570b-bc51-4908-ca3a-6a1cf34a7911"
      },
      "execution_count": 15,
      "outputs": [
        {
          "output_type": "display_data",
          "data": {
            "text/plain": [
              "<Figure size 1000x500 with 2 Axes>"
            ],
            "image/png": "[encoded data removed]"
          },
          "metadata": {}
        },
        {
          "output_type": "display_data",
          "data": {
            "text/plain": [
              "<IPython.core.display.HTML object>"
            ],
            "text/html": []
          },
          "metadata": {}
        },
        {
          "output_type": "display_data",
          "data": {
            "text/plain": [
              "<IPython.core.display.HTML object>"
            ],
            "text/html": [
              "<br>    <style><br>        .wandb-row {<br>            display: flex;<br>            flex-direction: row;<br>            flex-wrap: wrap;<br>            justify-content: flex-start;<br>            width: 100%;<br>        }<br>        .wandb-col {<br>            display: flex;<br>            flex-direction: column;<br>            flex-basis: 100%;<br>            flex: 1;<br>            padding: 10px;<br>        }<br>    </style><br><div class=\"wandb-row\"><div class=\"wandb-col\"><h3>Run history:</h3><br/><table class=\"wandb\"><tr><td>epoch</td><td>▁▁▂▂▂▂▂▂▂▂▃▃▃▄▄▄▄▄▄▅▅▅▅▆▆▆▆▆▆▆▆▇▇▇▇▇▇███</td></tr><tr><td>train_loss</td><td>█▇▇▇▅▄▄▃▃▃▃▃▃▂▂▂▂▂▂▂▂▂▂▁▁▁▁▁▁▁▁▁▁▁▁▁▁▁▁▁</td></tr><tr><td>val_loss</td><td>█▇▆▆▅▄▄▃▃▂▂▂▂▂▂▂▂▁▁▁▁▁▁▁▁▁▁▁▁▁▁▁▁▁▁▁▁▁▁▁</td></tr></table><br/></div><div class=\"wandb-col\"><h3>Run summary:</h3><br/><table class=\"wandb\"><tr><td>epoch</td><td>100</td></tr><tr><td>train_loss</td><td>0.01739</td></tr><tr><td>val_loss</td><td>0.00483</td></tr></table><br/></div></div>"
            ]
          },
          "metadata": {}
        },
        {
          "output_type": "display_data",
          "data": {
            "text/plain": [
              "<IPython.core.display.HTML object>"
            ],
            "text/html": [
              " View run <strong style=\"color:#cdcd00\">upbeat-flower-1</strong> at: <a href='https://wandb.ai/010sachinmishra-international-institute-of-information-t/polygon-colorizer/runs/98c5bxt4' target=\"_blank\">https://wandb.ai/010sachinmishra-international-institute-of-information-t/polygon-colorizer/runs/98c5bxt4</a><br> View project at: <a href='https://wandb.ai/010sachinmishra-international-institute-of-information-t/polygon-colorizer' target=\"_blank\">https://wandb.ai/010sachinmishra-international-institute-of-information-t/polygon-colorizer</a><br>Synced 5 W&B file(s), 0 media file(s), 0 artifact file(s) and 0 other file(s)"
            ]
          },
          "metadata": {}
        },
        {
          "output_type": "display_data",
          "data": {
            "text/plain": [
              "<IPython.core.display.HTML object>"
            ],
            "text/html": [
              "Find logs at: <code>/content/wandb/run-20250805_033438-98c5bxt4/logs</code>"
            ]
          },
          "metadata": {}
        }
      ]
    }
  ]
}